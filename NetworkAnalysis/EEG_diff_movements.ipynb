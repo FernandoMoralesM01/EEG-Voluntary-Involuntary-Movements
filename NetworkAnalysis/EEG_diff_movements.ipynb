{
 "cells": [
  {
   "cell_type": "markdown",
   "metadata": {},
   "source": [
    "# Analysis of the difference on the three types of activities fot the three kind of movements"
   ]
  },
  {
   "cell_type": "markdown",
   "metadata": {},
   "source": [
    "# Load of the conectivity matrix"
   ]
  },
  {
   "cell_type": "code",
   "execution_count": 414,
   "metadata": {},
   "outputs": [],
   "source": [
    "import numpy as np\n",
    "import iberoSignalPro.preprocesa as ib\n",
    "import mne\n",
    "import matplotlib.pyplot as plt\n",
    "import pandas as pd\n",
    "import statsmodels.api as sm\n",
    "from statsmodels.tsa.stattools import grangercausalitytests\n",
    "import seaborn as sns\n",
    "import networkx as nx\n",
    "\n",
    "# My Tools libraies\n",
    "from ntwktools import *\n",
    "from statstools import * "
   ]
  },
  {
   "cell_type": "code",
   "execution_count": 415,
   "metadata": {},
   "outputs": [
    {
     "data": {
      "text/plain": [
       "((41,), (41,), (41,))"
      ]
     },
     "execution_count": 415,
     "metadata": {},
     "output_type": "execute_result"
    }
   ],
   "source": [
    "Carga_10 = np.load('3Carga_10p01.npy', allow_pickle=True)\n",
    "Carga_5 = np.load('3Carga_5p01.npy',  allow_pickle=True)\n",
    "Carga_0 = np.load('3Carga_0p01.npy',  allow_pickle=True)\n",
    "\n",
    "Carga_5 = Carga_5[:-2]\n",
    "Carga_0 = Carga_0[:-2]\n",
    "\n",
    "\n",
    "Carga_10.shape, Carga_5.shape, Carga_0.shape\n"
   ]
  },
  {
   "cell_type": "code",
   "execution_count": 416,
   "metadata": {},
   "outputs": [],
   "source": [
    "ch_names = np.array(['HRV', 'RRV', 'EnvAnta', 'EnvAgo', 'Posicion', 'FC3', 'FCz', 'FC4',\n",
    "       'CP3', 'C3', 'C1', 'Cz', 'C2', 'C4', 'CP4', 'P3', 'Pz', 'P4', 'O1',\n",
    "       'Oz', 'O2'], dtype=object)"
   ]
  },
  {
   "cell_type": "code",
   "execution_count": 417,
   "metadata": {},
   "outputs": [],
   "source": [
    "y, x, ro, deg, _ =ib.eloc_reader('../codigo/eloc16_bueno.txt')\n",
    "\n",
    "\n",
    "new_x = np.array([x.min() - 0.021,     x.min() - 0.1,    x.max() + 0.1,  x.max() + 0.02, 0])\n",
    "new_y = np.array([y.max() + 0.25,   y.max() + 0.25,     y.max() + 0.25, y.max() + 0.25, y.max() + 0.25])\n",
    "\n",
    "x = np.concatenate((new_x, x))\n",
    "y = np.concatenate((new_y, y))"
   ]
  },
  {
   "cell_type": "markdown",
   "metadata": {},
   "source": [
    "## Band selection\n",
    "\n",
    "mu ($\\mu$), beta ($\\beta$), gamma($\\gamma$)"
   ]
  },
  {
   "cell_type": "code",
   "execution_count": 418,
   "metadata": {},
   "outputs": [],
   "source": [
    "# ************************\n",
    "# ************************\n",
    "band = \"gamma\"\n",
    "test_mat = Carga_10[0].get_network(band, band).matriz_act\n"
   ]
  },
  {
   "cell_type": "code",
   "execution_count": null,
   "metadata": {},
   "outputs": [],
   "source": []
  },
  {
   "cell_type": "markdown",
   "metadata": {},
   "source": [
    "# Metrics adquisition\n",
    "\n",
    "* Input Node Degree: Measures the number of incoming connections to a node, indicating the extent to which a node (or brain region) is influenced by others.\n",
    "* Output Node Degree: Represents the number of outgoing connections from a node, reflecting how much influence the node exerts on other nodes in the network.\n",
    "* Betweenness Centrality: Quantifies the importance of a node as a bridge in the shortest paths between other nodes, highlighting its role in facilitating communication within the network.\n",
    "* Clustering Coefficient: Evaluates the tendency of a node’s neighbors to form connections among themselves, providing insight into the local cohesiveness of the network."
   ]
  },
  {
   "cell_type": "code",
   "execution_count": 419,
   "metadata": {},
   "outputs": [],
   "source": [
    "ch_names = np.array(['HRV', 'RRV', 'EnvAnta', 'EnvAgo', 'Posicion', 'FC3', 'FCz', 'FC4',\n",
    "       'CP3', 'C3', 'C1', 'Cz', 'C2', 'C4', 'CP4', 'P3', 'Pz', 'P4', 'O1',\n",
    "       'Oz', 'O2'], dtype=object)"
   ]
  },
  {
   "cell_type": "code",
   "execution_count": 420,
   "metadata": {},
   "outputs": [],
   "source": [
    "def get_ntwk_metrics(Cargas, band = \"mu\", tipo = \"actividad\", thresh = 0, only_eeg  = True, ch_names = None, same_windows = True):\n",
    "    if ch_names is None:\n",
    "        ch_names = np.array(['FC3', 'FCz', 'FC4', 'CP3', 'C3', 'C1', 'Cz', 'C2', 'C4', 'CP4', 'P3', 'Pz', 'P4', 'O1', 'Oz', 'O2'], dtype=object)\n",
    "    in_degree_centrality_all = []\n",
    "    out_degree_centrality_all = []\n",
    "    betweenness_centrality_all = []\n",
    "    max_win = []\n",
    "\n",
    "    for i, carga_ in enumerate(Cargas):\n",
    "        carga = Cargas[i]\n",
    "        if same_windows:\n",
    "            len_windows_act = carga.get_network(band, band).array_mat_act.shape[0]\n",
    "            len_windows_rep = carga.get_network(band, band).array_mat_rep.shape[0]\n",
    "            len_windows = min(len_windows_act, len_windows_rep)\n",
    "\n",
    "\n",
    "        if tipo == \"actividad\":\n",
    "            if same_windows:\n",
    "                matrices_actividad = carga.get_network(band, band).array_mat_act[:len_windows]\n",
    "            else:\n",
    "                matrices_actividad = carga.get_network(band, band).array_mat_act\n",
    "            \n",
    "            in_degree_centrality_all_temp = []\n",
    "            out_degree_centrality_all_temp = []\n",
    "            betweenness_centrality_all_temp = []\n",
    "\n",
    "            for test_mat in matrices_actividad:\n",
    "                if only_eeg:\n",
    "                    test_mat = test_mat[5:, 5:]\n",
    "\n",
    "                \n",
    "                in_degree_centrality, out_degree_centrality = get_deg(test_mat)\n",
    "                in_degree_centrality_all_temp.append(in_degree_centrality)\n",
    "                out_degree_centrality_all_temp.append(out_degree_centrality)\n",
    "\n",
    "                bet = betweenness_centrality(test_mat)\n",
    "\n",
    "                betweenness_centrality_all_temp.append(bet)\n",
    "\n",
    "        else:\n",
    "            if same_windows:\n",
    "                matrices_reposo = carga.get_network(band, band).array_mat_rep[:len_windows]\n",
    "            else:\n",
    "                matrices_reposo = carga.get_network(band, band).array_mat_rep\n",
    "            \n",
    "            in_degree_centrality_all_temp = []\n",
    "            out_degree_centrality_all_temp = []\n",
    "            betweenness_centrality_all_temp = []\n",
    "            \n",
    "            for test_mat in matrices_reposo:\n",
    "                test_mat = test_mat\n",
    "                if only_eeg:\n",
    "                    test_mat = test_mat[5:, 5:]\n",
    "\n",
    "                \n",
    "                in_degree_centrality, out_degree_centrality = get_deg(test_mat)\n",
    "                in_degree_centrality_all_temp.append(in_degree_centrality)\n",
    "                out_degree_centrality_all_temp.append(out_degree_centrality)\n",
    "                \n",
    "                bet = betweenness_centrality(test_mat)\n",
    "                \n",
    "                betweenness_centrality_all_temp.append(bet)\n",
    "                \n",
    "        \n",
    "        in_degree_centrality_all_temp = np.array(in_degree_centrality_all_temp)\n",
    "        out_degree_centrality_all_temp = np.array(out_degree_centrality_all_temp)\n",
    "        betweenness_centrality_all_temp = np.array(betweenness_centrality_all_temp)\n",
    "        \n",
    "        \n",
    "        in_degree_centrality_all_temp_padded = np.zeros((6, in_degree_centrality_all_temp.shape[1]))\n",
    "        in_degree_centrality_all_temp_padded[:in_degree_centrality_all_temp.shape[0], :] = in_degree_centrality_all_temp\n",
    "        \n",
    "        out_degree_centrality_all_temp_padded = np.zeros((6, out_degree_centrality_all_temp.shape[1]))\n",
    "        out_degree_centrality_all_temp_padded[:out_degree_centrality_all_temp.shape[0], :] = out_degree_centrality_all_temp\n",
    "        \n",
    "        betweenness_centrality_all_temp_padded = np.zeros((6, betweenness_centrality_all_temp.shape[1]))\n",
    "        betweenness_centrality_all_temp_padded[:betweenness_centrality_all_temp.shape[0], :] = betweenness_centrality_all_temp\n",
    "        max_win.append(in_degree_centrality_all_temp.shape[0])\n",
    "\n",
    "        in_degree_centrality_all.append(in_degree_centrality_all_temp_padded)\n",
    "        out_degree_centrality_all.append(out_degree_centrality_all_temp_padded)\n",
    "        betweenness_centrality_all.append(betweenness_centrality_all_temp_padded)\n",
    "\n",
    "\n",
    "    max_win = np.array(max_win)\n",
    "    in_degree_centrality_all = np.array(in_degree_centrality_all)\n",
    "    out_degree_centrality_all = np.array(out_degree_centrality_all)\n",
    "    betweenness_centrality_all = np.array(betweenness_centrality_all)\n",
    "\n",
    "    return in_degree_centrality_all, out_degree_centrality_all, max_win, betweenness_centrality_all"
   ]
  },
  {
   "cell_type": "code",
   "execution_count": 421,
   "metadata": {},
   "outputs": [],
   "source": [
    "def promediar_ventanas(arr_act_10in, n_ventanas):\n",
    "    suma_ventanas = np.sum(arr_act_10in, axis=1)\n",
    "    promedio_ventanas = suma_ventanas / n_ventanas[:, np.newaxis]\n",
    "    return promedio_ventanas\n",
    "\n",
    "def desenvolver_ventanas(arr, n_ventanas, axis = 1):\n",
    "    # Obtener las dimensiones originales\n",
    "    num_sujetos, num_ventanas, num_canales = arr.shape\n",
    "    num_ventanas = np.sum(n_ventanas)\n",
    "    \n",
    "    arr_desenvuelto = []\n",
    "    for i in range(num_sujetos):\n",
    "        for j in range(n_ventanas[i]):\n",
    "            arr_desenvuelto.append(arr[i, j, :])\n",
    "    arr_desenvuelto = np.array(arr_desenvuelto)\n",
    "\n",
    "    if axis ==2:\n",
    "    \n",
    "        arr_desenvuelto = []\n",
    "        for i in range(num_sujetos):\n",
    "            for j in range(n_ventanas[i]):\n",
    "                arr_desenvuelto.append(arr[i, j, :])\n",
    "        arr_desenvuelto = np.array(arr_desenvuelto)\n",
    "    \n",
    "    return arr_desenvuelto"
   ]
  },
  {
   "cell_type": "code",
   "execution_count": null,
   "metadata": {},
   "outputs": [],
   "source": []
  },
  {
   "cell_type": "code",
   "execution_count": 422,
   "metadata": {},
   "outputs": [],
   "source": [
    "thresh = 0\n",
    "\n",
    "arr_act_10in, arr_act_10out, act_n_ventanas_10, act_betweenness_centrality_10 = get_ntwk_metrics(Carga_10, band = band, tipo = \"actividad\", thresh=thresh, only_eeg=True, ch_names=ch_names[5:])\n",
    "arr_act_10in = promediar_ventanas(arr_act_10in, act_n_ventanas_10)\n",
    "arr_act_10out = promediar_ventanas(arr_act_10out, act_n_ventanas_10)\n",
    "arr_betweenness_centrality_10 =promediar_ventanas(act_betweenness_centrality_10, act_n_ventanas_10)\n",
    "\n",
    "arr_act_5in, arr_act_5out, act_n_ventanas_5, act_betweenness_centrality_5 = get_ntwk_metrics(Carga_5, band = band, tipo = \"actividad\",  thresh=thresh, only_eeg=True, ch_names=ch_names[5:])\n",
    "arr_act_5in = promediar_ventanas(arr_act_5in, act_n_ventanas_5)\n",
    "arr_act_5out = promediar_ventanas(arr_act_5out, act_n_ventanas_5)\n",
    "\n",
    "arr_act_0in, arr_act_0out, act_n_ventanas_0, act_betweenness_centrality_0 = get_ntwk_metrics(Carga_0, band =band, tipo = \"actividad\",  thresh=thresh, only_eeg=True, ch_names=ch_names[5:])\n",
    "arr_act_0in = promediar_ventanas(arr_act_0in, act_n_ventanas_0)\n",
    "arr_act_0out = promediar_ventanas(arr_act_0out, act_n_ventanas_0)\n",
    "\n",
    "\n"
   ]
  },
  {
   "cell_type": "code",
   "execution_count": 423,
   "metadata": {},
   "outputs": [],
   "source": [
    "thresh = 0\n",
    "\n",
    "arr_act_10in, arr_act_10out, act_n_ventanas_10, act_betweenness_centrality_10 = get_ntwk_metrics(Carga_10, band = band, tipo = \"actividad\", thresh=thresh, only_eeg=True)\n",
    "arr_act_10in = desenvolver_ventanas(arr_act_10in, act_n_ventanas_10)\n",
    "arr_act_10out = desenvolver_ventanas(arr_act_10out, act_n_ventanas_10)\n",
    "act_betweenness_centrality_10 = desenvolver_ventanas(act_betweenness_centrality_10, act_n_ventanas_10)\n",
    "\n",
    "arr_rep_10in, arr_rep_10out, rep_n_ventanas_10, rep_betweenness_centrality_10 = get_ntwk_metrics(Carga_10, band = band, tipo = \"reposo\",  thresh=thresh, only_eeg=True)\n",
    "arr_rep_10in = desenvolver_ventanas(arr_rep_10in, rep_n_ventanas_10)\n",
    "arr_rep_10out = desenvolver_ventanas(arr_rep_10out, rep_n_ventanas_10)\n",
    "rep_betweenness_centrality_10 = desenvolver_ventanas(rep_betweenness_centrality_10, rep_n_ventanas_10)\n",
    "\n",
    "arr_act_5in, arr_act_5out, act_n_ventanas_5, act_betweenness_centrality_5 = get_ntwk_metrics(Carga_5, band = band, tipo = \"actividad\",  thresh=thresh, only_eeg=True)\n",
    "arr_act_5in = desenvolver_ventanas(arr_act_5in, act_n_ventanas_5)\n",
    "arr_act_5out = desenvolver_ventanas(arr_act_5out, act_n_ventanas_5)\n",
    "act_betweenness_centrality_5 = desenvolver_ventanas(act_betweenness_centrality_5, act_n_ventanas_5)\n",
    "\n",
    "arr_rep_5in, arr_rep_5out, rep_n_ventanas_5, rep_betweenness_centrality_5 = get_ntwk_metrics(Carga_5, band =band, tipo = \"reposo\",  thresh=thresh, only_eeg=True)\n",
    "arr_rep_5in = desenvolver_ventanas(arr_rep_5in, rep_n_ventanas_5)\n",
    "arr_rep_5out = desenvolver_ventanas(arr_rep_5out, rep_n_ventanas_5)\n",
    "rep_betweenness_centrality_5 = desenvolver_ventanas(rep_betweenness_centrality_5, act_n_ventanas_5)\n",
    "\n",
    "arr_act_0in, arr_act_0out, act_n_ventanas_0, act_betweenness_centrality_0 = get_ntwk_metrics(Carga_0, band =band, tipo = \"actividad\",  thresh=thresh, only_eeg=True)\n",
    "arr_act_0in = desenvolver_ventanas(arr_act_0in, act_n_ventanas_0)\n",
    "arr_act_0out = desenvolver_ventanas(arr_act_0out, act_n_ventanas_0)\n",
    "act_betweenness_centrality_0 = desenvolver_ventanas(act_betweenness_centrality_0, act_n_ventanas_0)\n",
    "\n",
    "arr_rep_0in, arr_rep_0out, rep_n_ventanas_0, rep_betweenness_centrality_0 = get_ntwk_metrics(Carga_0, band =band, tipo = \"reposo\",  thresh=thresh, only_eeg=True)\n",
    "arr_rep_0in = desenvolver_ventanas(arr_rep_0in, rep_n_ventanas_0)\n",
    "arr_rep_0out = desenvolver_ventanas(arr_rep_0out, rep_n_ventanas_0)\n",
    "rep_betweenness_centrality_0 = desenvolver_ventanas(rep_betweenness_centrality_0, rep_n_ventanas_0)\n"
   ]
  },
  {
   "cell_type": "code",
   "execution_count": 424,
   "metadata": {},
   "outputs": [],
   "source": [
    "\n",
    "def generate_big_df(Carga, band, ch_names, activtylabel=\"actividad\", restlabel=\"reposo\"):\n",
    "    arr_actin, arr_actout, act_n_ventanas, be = get_ntwk_metrics(Carga, band=band, tipo=\"actividad\")\n",
    "    arr_actin = desenvolver_ventanas(arr_actin, act_n_ventanas)\n",
    "    arr_actout = desenvolver_ventanas(arr_actout, act_n_ventanas)\n",
    "\n",
    "    act_betweenness_centrality = desenvolver_ventanas(be, act_n_ventanas)\n",
    "    \n",
    "    \n",
    "    #arr_repin, arr_repout, rep_n_ventanas, be = get_ntwk_metrics(Carga, band=band, tipo=\"reposo\")\n",
    "    #arr_repin = desenvolver_ventanas(arr_repin, rep_n_ventanas)\n",
    "    #arr_repout = desenvolver_ventanas(arr_repout, rep_n_ventanas)\n",
    "\n",
    "    #rep_betweenness_centrality = desenvolver_ventanas(be, rep_n_ventanas)\n",
    "    \n",
    "    column_names_in = ch_names + [\"_input_degree\"]\n",
    "    label = [activtylabel] * arr_actin.shape[0] #+ [restlabel] * arr_repin.shape[0]\n",
    "\n",
    "    df_in = pd.DataFrame(arr_actin, columns=column_names_in)\n",
    "    df_in[\"label\"] = label\n",
    "\n",
    "    column_names_out = ch_names + [\"_output_degree\"]\n",
    "    df_out = pd.DataFrame(arr_actout, columns=column_names_out)\n",
    "    df_out[\"label\"] = label\n",
    "\n",
    "\n",
    "    column_names_bet = ch_names + [\"_betweenness\"]\n",
    "    df_bet = pd.DataFrame(act_betweenness_centrality, columns=column_names_bet)\n",
    "    df_bet[\"label\"] = label\n",
    "\n",
    "    big_df = pd.concat([df_in, df_out], axis=1)\n",
    "\n",
    "    return df_in, df_out, df_bet\n"
   ]
  },
  {
   "cell_type": "code",
   "execution_count": 425,
   "metadata": {},
   "outputs": [],
   "source": [
    "df10in, df10out, df10bet = generate_big_df(Carga_10, band, activtylabel=\"SE10 Activity\", ch_names=ch_names[5:])\n",
    "df5in, df5out, df5bet = generate_big_df(Carga_5, band, activtylabel=\"SE5 Activity\", ch_names=ch_names[5:])\n",
    "df0in, df0out, df0bet = generate_big_df(Carga_0, band, activtylabel=\"AM Activity\", ch_names=ch_names[5:])\n",
    "\n",
    "big_in = pd.concat([df10in, df5in, df0in])\n",
    "big_out = pd.concat([df10out, df5out, df0out])\n",
    "big_bet = pd.concat([df10bet, df5bet, df0bet])"
   ]
  },
  {
   "cell_type": "code",
   "execution_count": null,
   "metadata": {},
   "outputs": [],
   "source": []
  },
  {
   "cell_type": "code",
   "execution_count": 426,
   "metadata": {},
   "outputs": [],
   "source": [
    "def get_significat_cols(df_analisis, p_val = 0.01, label = \"label\", test = \"paired_t_test\", verbose = False):\n",
    "    significat_cols = []\n",
    "    p_values = []\n",
    "    for col in df_analisis.columns:\n",
    "        if col == \"label\":\n",
    "            continue\n",
    "        if test == \"paired_t_test\":\n",
    "            T_stat, p_value = compute_paired_t_test(df_analisis, \"label\", col)\n",
    "        elif test == \"t_test\":\n",
    "            T_stat, p_value = compute_t_test(df_analisis, \"label\", col)\n",
    "        elif test == \"kruskal_wallis\":\n",
    "            T_stat, p_value = compute_kruskal_wallis_anova(df_analisis, \"label\", col)\n",
    "        elif test == \"one_way_anova\":\n",
    "            T_stat, p_value = compute_one_way_anova(df_analisis, \"label\", col)\n",
    "        if p_value < p_val:\n",
    "            if verbose:\n",
    "                print(f\" {col} - {p_value}\")\n",
    "            p_values.append(p_value)\n",
    "            significat_cols.append(col)\n",
    "    return significat_cols, p_values"
   ]
  },
  {
   "cell_type": "markdown",
   "metadata": {},
   "source": [
    "# Statisticall tests\n",
    "\n",
    "for adquisition of significant conection on diferent channels.\n",
    "\n"
   ]
  },
  {
   "cell_type": "code",
   "execution_count": 427,
   "metadata": {},
   "outputs": [],
   "source": [
    "pval = 0.05\n",
    "\n",
    "significant_columns_input, p_values = get_significat_cols(big_in, test = \"one_way_anova\", verbose=False, p_val=pval)\n",
    "significant_columns_output, p_values = get_significat_cols(big_out, test = \"one_way_anova\", verbose=False, p_val=pval)\n",
    "significant_columns_bet, p_values = get_significat_cols(big_bet, test = \"one_way_anova\", verbose=False, p_val=pval)\n",
    "\n",
    "df_sig_inputs = big_in[significant_columns_input + [\"label\"]]\n",
    "df_sig_inputs.columns = [col.split('_')[0] if col != 'label' else col for col in df_sig_inputs.columns]\n",
    "\n",
    "df_sig_outputs = big_out[significant_columns_output + [\"label\"]]\n",
    "df_sig_outputs.columns = [col.split('_')[0] if col != 'label' else col for col in df_sig_outputs.columns]\n",
    "\n",
    "df_sig_bet = big_bet[significant_columns_bet + [\"label\"]]\n",
    "df_sig_bet.columns = [col.split('_')[0] if col != 'label' else col for col in df_sig_bet.columns]\n",
    "\n",
    "\n",
    "significant_inputs_channels = df_sig_inputs.columns[:-1]\n",
    "significant_outputs_channels = df_sig_outputs.columns[:-1]\n",
    "significant_bet_channels = df_sig_bet.columns[:-1]\n",
    "\n"
   ]
  },
  {
   "cell_type": "code",
   "execution_count": 428,
   "metadata": {},
   "outputs": [
    {
     "name": "stdout",
     "output_type": "stream",
     "text": [
      "Significant inputs: Index(['CP3', 'Oz'], dtype='object')\n",
      "Significant outputs: Index(['C4', 'Pz'], dtype='object')\n",
      "Significant bet: Index(['P3', 'Oz'], dtype='object')\n"
     ]
    }
   ],
   "source": [
    "print(f\"Significant inputs: {significant_inputs_channels}\")\n",
    "print(f\"Significant outputs: {significant_outputs_channels}\")\n",
    "print(f\"Significant bet: {significant_bet_channels}\")"
   ]
  },
  {
   "cell_type": "code",
   "execution_count": 450,
   "metadata": {},
   "outputs": [
    {
     "data": {
      "image/png": "[encoded data removed]",
      "text/plain": [
       "<Figure size 1000x600 with 3 Axes>"
      ]
     },
     "metadata": {},
     "output_type": "display_data"
    }
   ],
   "source": [
    "\n",
    "plt.figure(figsize=(10, 6))\n",
    "plt.title(\"Significant input degree\")\n",
    "for i, col in enumerate(significant_inputs_channels):\n",
    "    plt.subplot(1, len(significant_inputs_channels), i + 1)\n",
    "    sns.boxplot(x=\"label\", y=col, data=df_sig_inputs, hue=\"label\")\n",
    "    \n",
    "\n",
    "plt.tight_layout()\n",
    "plt.show()"
   ]
  },
  {
   "cell_type": "code",
   "execution_count": 451,
   "metadata": {},
   "outputs": [
    {
     "data": {
      "image/png": "[encoded data removed]",
      "text/plain": [
       "<Figure size 1000x600 with 3 Axes>"
      ]
     },
     "metadata": {},
     "output_type": "display_data"
    }
   ],
   "source": [
    "\n",
    "\n",
    "plt.figure(figsize=(10, 6))\n",
    "plt.title(\"Significant output degree\")\n",
    "for i, col in enumerate(significant_outputs_channels):\n",
    "    plt.subplot(1, len(significant_outputs_channels), i + 1)\n",
    "    sns.boxplot(x=\"label\", y=col, data=df_sig_outputs, hue=\"label\")\n",
    "    \n",
    "\n",
    "plt.tight_layout()\n",
    "plt.show()"
   ]
  },
  {
   "cell_type": "code",
   "execution_count": 452,
   "metadata": {},
   "outputs": [
    {
     "data": {
      "image/png": "[encoded data removed]",
      "text/plain": [
       "<Figure size 1000x600 with 3 Axes>"
      ]
     },
     "metadata": {},
     "output_type": "display_data"
    }
   ],
   "source": [
    "\n",
    "plt.figure(figsize=(10, 6))\n",
    "plt.title(\"Significant betweenness\")\n",
    "for i, col in enumerate(significant_bet_channels):\n",
    "    plt.subplot(1, len(significant_bet_channels), i + 1)\n",
    "    sns.boxplot(x=\"label\", y=col, data=df_sig_bet, hue=\"label\")\n",
    "    \n",
    "\n",
    "plt.tight_layout()\n",
    "plt.show()"
   ]
  },
  {
   "cell_type": "code",
   "execution_count": 432,
   "metadata": {},
   "outputs": [],
   "source": [
    "def get_clusteringcoeff(adj_matrix):\n",
    "    \"\"\"\n",
    "    Calculate the clustering coefficient for each node in the adjacency matrix.\n",
    "\n",
    "    Parameters:\n",
    "    adj_matrix (numpy.ndarray): Adjacency matrix representing the graph.\n",
    "\n",
    "    Returns:\n",
    "    numpy.ndarray: Array of clustering coefficients for each node.\n",
    "    \"\"\"\n",
    "    # Create a graph from the adjacency matrix\n",
    "    G = nx.from_numpy_array(adj_matrix)\n",
    "    \n",
    "    # Calculate the clustering coefficient for each node\n",
    "    clustering_coeffs = nx.clustering(G)\n",
    "    \n",
    "    # Convert the clustering coefficients to a numpy array\n",
    "    clustering_coeffs_array = np.array(list(clustering_coeffs.values()))\n",
    "    \n",
    "    return clustering_coeffs_array"
   ]
  },
  {
   "cell_type": "code",
   "execution_count": 433,
   "metadata": {},
   "outputs": [],
   "source": [
    "\n",
    "def get_ntwk_clusteringcoeff(Cargas, band=\"mu\", tipo=\"actividad\", thresh=0, only_eeg=True, ch_names=None, same_windows=True):\n",
    "    if ch_names is None:\n",
    "        ch_names = np.array(['FC3', 'FCz', 'FC4', 'CP3', 'C3', 'C1', 'Cz', 'C2', 'C4', 'CP4', 'P3', 'Pz', 'P4', 'O1', 'Oz', 'O2'], dtype=object)\n",
    "    \n",
    "    clustering_coefficient_node_all = []\n",
    "    max_win = []\n",
    "\n",
    "    for carga in Cargas:\n",
    "        if same_windows:\n",
    "            len_windows_act = carga.get_network(band, band).array_mat_act.shape[0]\n",
    "            len_windows_rep = carga.get_network(band, band).array_mat_rep.shape[0]\n",
    "            len_windows = min(len_windows_act, len_windows_rep)\n",
    "\n",
    "        if tipo == \"actividad\":\n",
    "            if same_windows:\n",
    "                matrices_actividad = carga.get_network(band, band).array_mat_act[:len_windows]\n",
    "            else:\n",
    "                matrices_actividad = carga.get_network(band, band).array_mat_act\n",
    "            \n",
    "            clustering_coefficient_node_all_each = []\n",
    "\n",
    "            for test_mat in matrices_actividad:\n",
    "                if only_eeg:\n",
    "                    test_mat = test_mat[5:, 5:]\n",
    "\n",
    "                temp_clustering = get_clusteringcoeff(test_mat)\n",
    "                clustering_coefficient_node_all_each.append(temp_clustering)\n",
    "         \n",
    "        else:\n",
    "            if same_windows:\n",
    "                matrices_reposo = carga.get_network(band, band).array_mat_rep[:len_windows]\n",
    "            else:\n",
    "                matrices_reposo = carga.get_network(band, band).array_mat_rep\n",
    "            \n",
    "            clustering_coefficient_node_all_each = []\n",
    "\n",
    "            for test_mat in matrices_reposo:\n",
    "                if only_eeg:\n",
    "                    test_mat = test_mat[5:, 5:]\n",
    "\n",
    "                temp_clustering = get_clusteringcoeff(test_mat)\n",
    "                clustering_coefficient_node_all_each.append(temp_clustering)\n",
    "        \n",
    "        clustering_coefficient_node_all_each = np.array(clustering_coefficient_node_all_each)\n",
    "        max_win.append(clustering_coefficient_node_all_each.shape[0])\n",
    "        if clustering_coefficient_node_all_each.shape[0] > 0:\n",
    "            clustering_coefficient_node_all_temp_padded = np.zeros((6, clustering_coefficient_node_all_each.shape[1]))\n",
    "            clustering_coefficient_node_all_temp_padded[:clustering_coefficient_node_all_each.shape[0], :] = clustering_coefficient_node_all_each\n",
    "            clustering_coefficient_node_all.append(clustering_coefficient_node_all_temp_padded)\n",
    "    \n",
    "        \n",
    "    clustering_coefficient_node_all = np.array(clustering_coefficient_node_all)\n",
    "    max_win = np.array(max_win)\n",
    "\n",
    "    return clustering_coefficient_node_all, max_win"
   ]
  },
  {
   "cell_type": "code",
   "execution_count": 434,
   "metadata": {},
   "outputs": [],
   "source": [
    "arr_act_10cc, max_win = get_ntwk_clusteringcoeff(Carga_10, band = band, tipo = \"actividad\", thresh=thresh, only_eeg=True, ch_names=ch_names[5:])\n",
    "act_10CC = np.mean(desenvolver_ventanas(arr_act_10cc, max_win), axis=0)\n",
    "\n",
    "arr_rep_10cc, max_win = get_ntwk_clusteringcoeff(Carga_10, band = band, tipo = \"reposo\", thresh=thresh, only_eeg=True, ch_names=ch_names[5:])\n",
    "rep_10CC = np.mean(desenvolver_ventanas(arr_rep_10cc, max_win), axis=0)\n",
    "\n",
    "arr_act_5cc, max_win = get_ntwk_clusteringcoeff(Carga_5, band = band, tipo = \"actividad\", thresh=thresh, only_eeg=True, ch_names=ch_names[5:])\n",
    "act_5CC = np.mean(desenvolver_ventanas(arr_act_5cc, max_win), axis=0)\n",
    "\n",
    "arr_rep_5cc, max_win = get_ntwk_clusteringcoeff(Carga_5, band = band, tipo = \"reposo\", thresh=thresh, only_eeg=True, ch_names=ch_names[5:])\n",
    "rep_5CC = np.mean(desenvolver_ventanas(arr_rep_5cc, max_win), axis=0)\n",
    "\n",
    "arr_act_0cc, max_win = get_ntwk_clusteringcoeff(Carga_0, band = band, tipo = \"actividad\", thresh=thresh, only_eeg=True, ch_names=ch_names[5:])\n",
    "act_0CC = np.mean(desenvolver_ventanas(arr_act_0cc, max_win), axis=0)\n",
    "\n",
    "arr_rep_0cc, max_win = get_ntwk_clusteringcoeff(Carga_0, band = band, tipo = \"reposo\", thresh=thresh, only_eeg=True, ch_names=ch_names[5:])\n",
    "rep_0CC = np.mean(desenvolver_ventanas(arr_rep_0cc, max_win), axis=0)\n"
   ]
  },
  {
   "cell_type": "code",
   "execution_count": 435,
   "metadata": {},
   "outputs": [],
   "source": [
    "def generate_df(Carga, banda, label_act = \"actividad\", label_rep = \"reposo\", ch_names = ch_names[5:]):\n",
    "    arr_act_10cc, max_win = get_ntwk_clusteringcoeff(Carga, band = band, tipo = \"actividad\", thresh=thresh, only_eeg=True, ch_names=ch_names[5:])\n",
    "    act_10CC = desenvolver_ventanas(arr_act_10cc, max_win)\n",
    "\n",
    "    #arr_rep_10cc, max_win = get_ntwk_clusteringcoeff(Carga, band = band, tipo = \"reposo\", thresh=thresh, only_eeg=True, ch_names=ch_names[5:])\n",
    "    #rep_10CC = desenvolver_ventanas(arr_rep_10cc, max_win)\n",
    "\n",
    "    act_label = label_act\n",
    "    rep_label = label_rep\n",
    "\n",
    "    df_act = pd.DataFrame(act_10CC, columns=ch_names)\n",
    "    df_act[\"label\"] = act_label\n",
    "\n",
    "    #df_rep = pd.DataFrame(rep_10CC, columns=ch_names)\n",
    "    #df_rep[\"label\"] = rep_label\n",
    "\n",
    "    #df = pd.concat([df_act, df_rep], axis=0)\n",
    "\n",
    "    return df_act\n",
    "\n"
   ]
  },
  {
   "cell_type": "code",
   "execution_count": 436,
   "metadata": {},
   "outputs": [],
   "source": [
    "df_10 = generate_df(Carga_10, band, label_act=\"SE10 Activity\")\n",
    "df_5 = generate_df(Carga_5, band, label_act=\"SE5 Activity\")\n",
    "df_0 = generate_df(Carga_0, band, label_act=\"AM Activity\")\n",
    "\n",
    "big_cc = pd.concat([df_10, df_5, df_0])"
   ]
  },
  {
   "cell_type": "code",
   "execution_count": 437,
   "metadata": {},
   "outputs": [
    {
     "data": {
      "text/html": [
       "<div>\n",
       "<style scoped>\n",
       "    .dataframe tbody tr th:only-of-type {\n",
       "        vertical-align: middle;\n",
       "    }\n",
       "\n",
       "    .dataframe tbody tr th {\n",
       "        vertical-align: top;\n",
       "    }\n",
       "\n",
       "    .dataframe thead th {\n",
       "        text-align: right;\n",
       "    }\n",
       "</style>\n",
       "<table border=\"1\" class=\"dataframe\">\n",
       "  <thead>\n",
       "    <tr style=\"text-align: right;\">\n",
       "      <th></th>\n",
       "      <th>FC3</th>\n",
       "      <th>FCz</th>\n",
       "      <th>FC4</th>\n",
       "      <th>CP3</th>\n",
       "      <th>C3</th>\n",
       "      <th>C1</th>\n",
       "      <th>Cz</th>\n",
       "      <th>C2</th>\n",
       "      <th>C4</th>\n",
       "      <th>CP4</th>\n",
       "      <th>P3</th>\n",
       "      <th>Pz</th>\n",
       "      <th>P4</th>\n",
       "      <th>O1</th>\n",
       "      <th>Oz</th>\n",
       "      <th>O2</th>\n",
       "      <th>label</th>\n",
       "    </tr>\n",
       "  </thead>\n",
       "  <tbody>\n",
       "    <tr>\n",
       "      <th>0</th>\n",
       "      <td>0.285714</td>\n",
       "      <td>0.333333</td>\n",
       "      <td>0.200000</td>\n",
       "      <td>0.333333</td>\n",
       "      <td>0.000000</td>\n",
       "      <td>0.266667</td>\n",
       "      <td>0.666667</td>\n",
       "      <td>0.000000</td>\n",
       "      <td>0.200000</td>\n",
       "      <td>0.200000</td>\n",
       "      <td>0.300000</td>\n",
       "      <td>0.200000</td>\n",
       "      <td>0.200000</td>\n",
       "      <td>0.333333</td>\n",
       "      <td>0.000000</td>\n",
       "      <td>0.166667</td>\n",
       "      <td>SE10 Activity</td>\n",
       "    </tr>\n",
       "    <tr>\n",
       "      <th>1</th>\n",
       "      <td>0.000000</td>\n",
       "      <td>0.400000</td>\n",
       "      <td>0.000000</td>\n",
       "      <td>0.333333</td>\n",
       "      <td>0.000000</td>\n",
       "      <td>1.000000</td>\n",
       "      <td>0.700000</td>\n",
       "      <td>0.000000</td>\n",
       "      <td>0.428571</td>\n",
       "      <td>0.236364</td>\n",
       "      <td>0.300000</td>\n",
       "      <td>0.000000</td>\n",
       "      <td>0.000000</td>\n",
       "      <td>0.666667</td>\n",
       "      <td>0.666667</td>\n",
       "      <td>1.000000</td>\n",
       "      <td>SE10 Activity</td>\n",
       "    </tr>\n",
       "    <tr>\n",
       "      <th>2</th>\n",
       "      <td>0.535714</td>\n",
       "      <td>0.466667</td>\n",
       "      <td>0.600000</td>\n",
       "      <td>0.527778</td>\n",
       "      <td>0.321429</td>\n",
       "      <td>0.523810</td>\n",
       "      <td>0.428571</td>\n",
       "      <td>0.266667</td>\n",
       "      <td>0.500000</td>\n",
       "      <td>0.511111</td>\n",
       "      <td>0.400000</td>\n",
       "      <td>0.733333</td>\n",
       "      <td>0.600000</td>\n",
       "      <td>0.476190</td>\n",
       "      <td>1.000000</td>\n",
       "      <td>0.000000</td>\n",
       "      <td>SE10 Activity</td>\n",
       "    </tr>\n",
       "    <tr>\n",
       "      <th>3</th>\n",
       "      <td>0.700000</td>\n",
       "      <td>0.846154</td>\n",
       "      <td>0.863636</td>\n",
       "      <td>0.954545</td>\n",
       "      <td>0.954545</td>\n",
       "      <td>0.769231</td>\n",
       "      <td>0.963636</td>\n",
       "      <td>0.954545</td>\n",
       "      <td>0.800000</td>\n",
       "      <td>0.769231</td>\n",
       "      <td>0.954545</td>\n",
       "      <td>1.000000</td>\n",
       "      <td>0.730769</td>\n",
       "      <td>0.954545</td>\n",
       "      <td>0.836364</td>\n",
       "      <td>0.863636</td>\n",
       "      <td>SE10 Activity</td>\n",
       "    </tr>\n",
       "    <tr>\n",
       "      <th>4</th>\n",
       "      <td>0.618182</td>\n",
       "      <td>0.604396</td>\n",
       "      <td>0.727273</td>\n",
       "      <td>0.727273</td>\n",
       "      <td>0.892857</td>\n",
       "      <td>0.500000</td>\n",
       "      <td>0.892857</td>\n",
       "      <td>0.777778</td>\n",
       "      <td>0.900000</td>\n",
       "      <td>0.666667</td>\n",
       "      <td>0.727273</td>\n",
       "      <td>0.653846</td>\n",
       "      <td>0.688889</td>\n",
       "      <td>0.763636</td>\n",
       "      <td>1.000000</td>\n",
       "      <td>0.722222</td>\n",
       "      <td>SE10 Activity</td>\n",
       "    </tr>\n",
       "  </tbody>\n",
       "</table>\n",
       "</div>"
      ],
      "text/plain": [
       "        FC3       FCz       FC4       CP3        C3        C1        Cz  \\\n",
       "0  0.285714  0.333333  0.200000  0.333333  0.000000  0.266667  0.666667   \n",
       "1  0.000000  0.400000  0.000000  0.333333  0.000000  1.000000  0.700000   \n",
       "2  0.535714  0.466667  0.600000  0.527778  0.321429  0.523810  0.428571   \n",
       "3  0.700000  0.846154  0.863636  0.954545  0.954545  0.769231  0.963636   \n",
       "4  0.618182  0.604396  0.727273  0.727273  0.892857  0.500000  0.892857   \n",
       "\n",
       "         C2        C4       CP4        P3        Pz        P4        O1  \\\n",
       "0  0.000000  0.200000  0.200000  0.300000  0.200000  0.200000  0.333333   \n",
       "1  0.000000  0.428571  0.236364  0.300000  0.000000  0.000000  0.666667   \n",
       "2  0.266667  0.500000  0.511111  0.400000  0.733333  0.600000  0.476190   \n",
       "3  0.954545  0.800000  0.769231  0.954545  1.000000  0.730769  0.954545   \n",
       "4  0.777778  0.900000  0.666667  0.727273  0.653846  0.688889  0.763636   \n",
       "\n",
       "         Oz        O2          label  \n",
       "0  0.000000  0.166667  SE10 Activity  \n",
       "1  0.666667  1.000000  SE10 Activity  \n",
       "2  1.000000  0.000000  SE10 Activity  \n",
       "3  0.836364  0.863636  SE10 Activity  \n",
       "4  1.000000  0.722222  SE10 Activity  "
      ]
     },
     "execution_count": 437,
     "metadata": {},
     "output_type": "execute_result"
    }
   ],
   "source": [
    "big_cc.head()"
   ]
  },
  {
   "cell_type": "code",
   "execution_count": 438,
   "metadata": {},
   "outputs": [],
   "source": [
    "p_val = 0.05\n",
    "\n",
    "significant_columns_cc, p_values = get_significat_cols(big_cc, test = \"one_way_anova\", verbose=False, p_val=pval)\n",
    "\n",
    "df_cc_sig = big_cc[significant_columns_cc + [\"label\"]]\n",
    "df_cc_sig.columns = [col.split('_')[0] if col != 'label' else col for col in df_cc_sig.columns]\n",
    "\n",
    "\n",
    "significant_cc_channels = df_cc_sig.columns[:-1]\n"
   ]
  },
  {
   "cell_type": "code",
   "execution_count": null,
   "metadata": {},
   "outputs": [],
   "source": []
  },
  {
   "cell_type": "code",
   "execution_count": 439,
   "metadata": {},
   "outputs": [
    {
     "name": "stdout",
     "output_type": "stream",
     "text": [
      "Significant clustering coefficient channels: Index(['P4'], dtype='object')\n"
     ]
    }
   ],
   "source": [
    "print (f\"Significant clustering coefficient channels: {significant_cc_channels}\")"
   ]
  },
  {
   "cell_type": "code",
   "execution_count": 440,
   "metadata": {},
   "outputs": [
    {
     "data": {
      "image/png": "[encoded data removed]",
      "text/plain": [
       "<Figure size 800x600 with 1 Axes>"
      ]
     },
     "metadata": {},
     "output_type": "display_data"
    }
   ],
   "source": [
    "plt.figure(figsize=(8, 6))\n",
    "plt.title(\"Significant clustering coefficient\")\n",
    "for i, col in enumerate(significant_cc_channels):\n",
    "    plt.subplot(1, len(significant_cc_channels), i + 1)\n",
    "    sns.boxplot(x=\"label\", y=col, data=df_cc_sig, hue=\"label\")\n",
    "    "
   ]
  }
 ],
 "metadata": {
  "kernelspec": {
   "display_name": "ibero",
   "language": "python",
   "name": "python3"
  },
  "language_info": {
   "codemirror_mode": {
    "name": "ipython",
    "version": 3
   },
   "file_extension": ".py",
   "mimetype": "text/x-python",
   "name": "python",
   "nbconvert_exporter": "python",
   "pygments_lexer": "ipython3",
   "version": "3.11.3"
  }
 },
 "nbformat": 4,
 "nbformat_minor": 2
}
